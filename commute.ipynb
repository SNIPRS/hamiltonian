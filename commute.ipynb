{
 "cells": [
  {
   "cell_type": "code",
   "execution_count": 1,
   "metadata": {},
   "outputs": [],
   "source": [
    "import networkx as nx\n",
    "import numpy as np\n",
    "\n",
    "Mclique = nx.algorithms.clique.max_weight_clique"
   ]
  },
  {
   "cell_type": "code",
   "execution_count": 2,
   "metadata": {},
   "outputs": [],
   "source": [
    "def Comm(A, B):\n",
    "    return np.allclose(A @ B, B @ A)\n",
    "\n",
    "def Comm_Graph(Matrices):\n",
    "    n = len(Matrices)\n",
    "    G = nx.Graph()\n",
    "    G.add_nodes_from(list(range(n)))\n",
    "    \n",
    "    for i in range(n-1):\n",
    "        for j in range(i+1, n):\n",
    "            if Comm(Matrices[i], Matrices[j]):\n",
    "                G.add_edge(i, j)\n",
    "    return G\n",
    "\n",
    "def iGreedy_Cliques(G):\n",
    "    icliques = []\n",
    "    while len(G.nodes) > 0:\n",
    "        clique, _ = Mclique(G, None)\n",
    "        icliques.append(clique)\n",
    "        G.remove_nodes_from(clique)\n",
    "    return icliques\n",
    "\n",
    "def Greedy_Cliques(Matrices, cs=None, Ps=None):\n",
    "    \"\"\" Input: Matrices \n",
    "        Output: (np) List of cliques of commuting matrices, sorted by largest first\n",
    "    \"\"\"\n",
    "    G = Comm_Graph(Matrices)\n",
    "    icliques = iGreedy_Cliques(G)\n",
    "    cliques = [Matrices[iclique] for iclique in icliques]\n",
    "    if cs is not None and Ps is not None:\n",
    "        coeffs = [cs[iclique] for iclique in icliques]\n",
    "        paulis = [Ps[iclique] for iclique in icliques]\n",
    "        return cliques, coeffs, paulis\n",
    "    return cliques\n",
    "\n",
    "def Greedy_Insert(A, cliques):\n",
    "    \"\"\" Input: Matrix A, List of cliques (commuting matrices), sorted by largest first\n",
    "        Output: List of cliques with A intserted in, sorted by largest first\n",
    "    \"\"\"\n",
    "    n = len(Matrices)\n",
    "    found = None\n",
    "    fclique = None\n",
    "    i = 0\n",
    "    \n",
    "    while i < n:\n",
    "        clique = cliques[i]\n",
    "        comm = True\n",
    "        for B in clique:\n",
    "            if not Comm(A, B):\n",
    "                comm = False\n",
    "                break\n",
    "        if comm == True:\n",
    "            found = i\n",
    "            fclique = clique\n",
    "            break\n",
    "    if found == None:\n",
    "        cliques.append([A])\n",
    "        return cliques\n",
    "    \n",
    "    del(cliques[i])\n",
    "    fclique.append(A)\n",
    "    m = len(fclique)\n",
    "    inserted = False\n",
    "    \n",
    "    for i, clique in enumerate(cliques):\n",
    "        if len(clique) < m:\n",
    "            cliques.insert(i, fclique)\n",
    "            inserted = True\n",
    "            break\n",
    "    if not inserted:\n",
    "        cliques.append(fclique)\n",
    "    \n",
    "    return cliques"
   ]
  },
  {
   "cell_type": "code",
   "execution_count": 1,
   "metadata": {},
   "outputs": [],
   "source": [
    "# G = nx.fast_gnp_random_graph(20, 0.2)\n",
    "# icliques = iGreedy_Cliques(G)\n",
    "# print(icliques)"
   ]
  },
  {
   "cell_type": "code",
   "execution_count": 2,
   "metadata": {},
   "outputs": [],
   "source": [
    "# Matrices = np.random.rand(20,2,2)\n",
    "# Matrices[icliques[0]].shape"
   ]
  },
  {
   "cell_type": "code",
   "execution_count": null,
   "metadata": {},
   "outputs": [],
   "source": []
  }
 ],
 "metadata": {
  "kernelspec": {
   "display_name": "Python 3",
   "language": "python",
   "name": "python3"
  },
  "language_info": {
   "codemirror_mode": {
    "name": "ipython",
    "version": 3
   },
   "file_extension": ".py",
   "mimetype": "text/x-python",
   "name": "python",
   "nbconvert_exporter": "python",
   "pygments_lexer": "ipython3",
   "version": "3.7.0"
  }
 },
 "nbformat": 4,
 "nbformat_minor": 2
}
