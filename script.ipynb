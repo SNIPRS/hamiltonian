{
 "cells": [
  {
   "cell_type": "code",
   "execution_count": null,
   "metadata": {},
   "outputs": [],
   "source": [
    "import numpy as np\n",
    "from functools import reduce\n",
    "import time\n",
    "from commute import *\n",
    "from diagonalize\n",
    "from phase import *\n",
    "from QDrift import *\n",
    "from hamiltonian import *\n",
    "from simulation import *\n",
    "\n",
    "n = 6\n",
    "Jx, Jy, Jz, h = np.random.normal(loc=0, scale=1, size=4)\n",
    "print('Coefficients: ', Jx, Jy, Jz, h)\n",
    "# G = [[0,1], [0,5], [1,2], [1,4], [2,3], [3,4], [3,8], [4,5], [4,7], [5,6], [6,7], [7,8]]\n",
    "# print('Graph: ', G)\n",
    "Hm, CHs, Chs, CPs = Heisenberg_1d(n, Jx, Jy, Jz, h, True)\n",
    "Hm, Hs, hs, Ps = Heisenberg_1d(n, Jx, Jy, Jz, h, False)\n",
    "tcost, icosts = Simulation_cost(Chs, CPs)\n",
    "SHs, Shs = Hs_sum(CHs, Chs)\n",
    "Hs_s, hs_s, icosts = Hs_sum_costs(SHs, Shs, icosts)\n",
    "\n",
    "t = 2\n",
    "M = 15\n",
    "\n",
    "rho = rand_rho(n)\n",
    "Ns = [2**i + 10 for i in range(5, M)]\n",
    "st = time.time()\n",
    "errors_costs1 = np.array([Error_cost(Hm, Hs, hs, t, rho, N, threads=12) for N in Ns])\n",
    "errors_costs = np.array([Error_cost(Hm, Hs_s, hs_s, t, rho, N, icosts, threads=12) for N in Ns])\n",
    "errors, errors1 = errors_costs[:, 0], errors_costs1[:, 0]\n",
    "tcosts, rcosts = errors_costs[:, 1], errors_costs[:, 2]\n",
    "\n",
    "print(time.time()-st)\n",
    "\n",
    "np.savetxt('save/rcosts.txt', rcosts)\n",
    "np.savetxt('save/tcosts.txt', tcosts)\n",
    "np.savetxt('save/errors.txt', errors)\n",
    "np.savetxt('save/errors1.txt', errors1)\n",
    "np.savetxt('save/Ns.txt', Ns)\n"
   ]
  }
 ],
 "metadata": {
  "kernelspec": {
   "display_name": "Python 3",
   "language": "python",
   "name": "python3"
  },
  "language_info": {
   "codemirror_mode": {
    "name": "ipython",
    "version": 3
   },
   "file_extension": ".py",
   "mimetype": "text/x-python",
   "name": "python",
   "nbconvert_exporter": "python",
   "pygments_lexer": "ipython3",
   "version": "3.7.0"
  }
 },
 "nbformat": 4,
 "nbformat_minor": 2
}
