{
 "cells": [
  {
   "cell_type": "code",
   "execution_count": 1,
   "metadata": {
    "scrolled": true
   },
   "outputs": [
    {
     "ename": "ModuleNotFoundError",
     "evalue": "No module named 'tqdm.notebook'",
     "output_type": "error",
     "traceback": [
      "\u001b[0;31m---------------------------------------------------------------------------\u001b[0m",
      "\u001b[0;31mModuleNotFoundError\u001b[0m                       Traceback (most recent call last)",
      "\u001b[0;32m~/projects/ham_sim/QDrift.ipynb\u001b[0m in \u001b[0;36m<module>\u001b[0;34m()\u001b[0m\n\u001b[1;32m      6\u001b[0m \u001b[0;32mfrom\u001b[0m \u001b[0mmultiprocessing\u001b[0m \u001b[0;32mimport\u001b[0m \u001b[0mPool\u001b[0m\u001b[0;34m\u001b[0m\u001b[0m\n\u001b[1;32m      7\u001b[0m \u001b[0;32mimport\u001b[0m \u001b[0mtime\u001b[0m\u001b[0;34m\u001b[0m\u001b[0m\n\u001b[0;32m----> 8\u001b[0;31m \u001b[0;32mfrom\u001b[0m \u001b[0mtqdm\u001b[0m\u001b[0;34m.\u001b[0m\u001b[0mnotebook\u001b[0m \u001b[0;32mimport\u001b[0m \u001b[0mtrange\u001b[0m\u001b[0;34m,\u001b[0m \u001b[0mtqdm\u001b[0m\u001b[0;34m\u001b[0m\u001b[0m\n\u001b[0m\u001b[1;32m      9\u001b[0m \u001b[0;34m\u001b[0m\u001b[0m\n\u001b[1;32m     10\u001b[0m \u001b[0mget_ipython\u001b[0m\u001b[0;34m(\u001b[0m\u001b[0;34m)\u001b[0m\u001b[0;34m.\u001b[0m\u001b[0mrun_line_magic\u001b[0m\u001b[0;34m(\u001b[0m\u001b[0;34m'matplotlib'\u001b[0m\u001b[0;34m,\u001b[0m \u001b[0;34m'inline'\u001b[0m\u001b[0;34m)\u001b[0m\u001b[0;34m\u001b[0m\u001b[0m\n",
      "\u001b[0;31mModuleNotFoundError\u001b[0m: No module named 'tqdm.notebook'"
     ]
    }
   ],
   "source": [
    "%%capture\n",
    "import numpy as np\n",
    "from functools import reduce\n",
    "import time\n",
    "%run commutate.ipynb\n",
    "%run diagonalize.ipynb\n",
    "%run phase.ipynb\n",
    "%run QDrift.ipynb\n",
    "%run hamiltonian.ipynb"
   ]
  },
  {
   "cell_type": "code",
   "execution_count": 2,
   "metadata": {},
   "outputs": [],
   "source": [
    "def Simulation_cost(Chs, CPs):\n",
    "    \"\"\" Returns the cost of the simulation,\n",
    "    total costs, individual costs in [crzs, toffolis]\n",
    "    \"\"\"\n",
    "    crzs, Toffolis = 0, 0\n",
    "    icosts = []\n",
    "    n = len(CPs[0][0])\n",
    "#     if n == 4:\n",
    "#         icosts = np.array([len(Chs)*[1,1]])\n",
    "#         tcost = np.array([len(Chs), len(Chs)])\n",
    "#         return tcost, icosts\n",
    "#     if n == 6:\n",
    "#         icosts = np.array([len(Chs)*[3,0]])\n",
    "#         tcost = np.array([3*len(Chs), 0])\n",
    "#         return tcost, icosts\n",
    "    for Ch, CP in zip(Chs, CPs):\n",
    "        _, CZ, _ = diag_results(CP, True)\n",
    "        _, _, cost = logic_min(CZ, Ch)\n",
    "        crzs += cost[0]\n",
    "        Toffolis += cost[1]\n",
    "        icosts.append([cost[0], cost[1]])\n",
    "    tcost = [crzs, Toffolis]\n",
    "    return np.array(tcost), np.array(icosts)\n",
    "\n",
    "def Hs_sum(CHs, Chs):\n",
    "    \"\"\" Regroups the cliques according to coefficients\n",
    "    \"\"\"\n",
    "    tolerance = 1e-3\n",
    "    SHs, Shs = [], []\n",
    "    for CH, Ch in zip(CHs, Chs):\n",
    "        SH, Sh = [], []\n",
    "        idx = np.argsort(Ch)\n",
    "        sCH, sCh = np.array(CH)[idx][::-1], np.array(Ch)[idx][::-1]\n",
    "        while len(sCh) > 0:\n",
    "            if np.abs(sCh[0]) < tolerance:\n",
    "                break\n",
    "            Sh.append(sCh[0])\n",
    "            SH.append(np.sum(sCH, axis=0))\n",
    "            sCh = sCh - sCh[0]\n",
    "            cut = (-1*tolerance > sCh) | (sCh > tolerance)\n",
    "            sCh = sCh[cut]\n",
    "            sCH = sCH[cut]\n",
    "        SHs.append(SH); Shs.append(Sh) \n",
    "    return SHs, Shs\n",
    "\n",
    "def Hs_sum_costs(SHs, Shs, icosts):\n",
    "    Hs_s, hs_s, costs = [], [], []\n",
    "    for SH, Sh, icost in zip(SHs, Shs, icosts):\n",
    "        for H, h in zip(SH, Sh):\n",
    "            Hs_s.append(H); hs_s.append(h), costs.append(icost)\n",
    "    return np.array(Hs_s), np.array(hs_s), costs\n",
    "\n"
   ]
  },
  {
   "cell_type": "code",
   "execution_count": 3,
   "metadata": {},
   "outputs": [
    {
     "name": "stdout",
     "output_type": "stream",
     "text": [
      "Coefficients:  -1.4557763174495622 0.2987174276355461 1.0592216058471369 1.491719193953135\n",
      "crzs, toffolis, thetas:\n",
      "1 0 [2.9115526348991243]\n",
      "crzs, toffolis, thetas:\n",
      "1 1 [0.5974348552710922]\n",
      "crzs, toffolis, thetas:\n",
      "1 1 [2.1184432116942737]\n",
      "crzs, toffolis, thetas:\n",
      "1 0 [0.7458595969765675]\n",
      "crzs, toffolis, thetas:\n",
      "1 0 [0.7458595969765675]\n",
      "crzs, toffolis, thetas:\n",
      "1 0 [0.7458595969765675]\n",
      "crzs, toffolis, thetas:\n",
      "1 0 [0.7458595969765675]\n"
     ]
    }
   ],
   "source": [
    "n = 4\n",
    "Jx, Jy, Jz, h = np.random.normal(loc=0, scale=1, size=4)\n",
    "print('Coefficients: ', Jx, Jy, Jz, h)\n",
    "# G = [[0,1], [0,5], [1,2], [1,4], [2,3], [3,4], [3,8], [4,5], [4,7], [5,6], [6,7], [7,8]]\n",
    "# print('Graph: ', G)\n",
    "Hm, CHs, Chs, CPs = Heisenberg_1d(n, Jx, Jy, Jz, h, True)\n",
    "Hm, Hs, hs, Ps = Heisenberg_1d(n, Jx, Jy, Jz, h, False)\n",
    "tcost, icosts = Simulation_cost(Chs, CPs)\n",
    "SHs, Shs = Hs_sum(CHs, Chs)\n",
    "Hs_s, hs_s, icosts = Hs_sum_costs(SHs, Shs, icosts)"
   ]
  },
  {
   "cell_type": "code",
   "execution_count": 4,
   "metadata": {},
   "outputs": [
    {
     "ename": "NameError",
     "evalue": "name 'rand_rho' is not defined",
     "output_type": "error",
     "traceback": [
      "\u001b[0;31m---------------------------------------------------------------------------\u001b[0m",
      "\u001b[0;31mNameError\u001b[0m                                 Traceback (most recent call last)",
      "\u001b[0;32m<ipython-input-4-1a95218992b1>\u001b[0m in \u001b[0;36m<module>\u001b[0;34m()\u001b[0m\n\u001b[1;32m      2\u001b[0m \u001b[0mM\u001b[0m \u001b[0;34m=\u001b[0m \u001b[0;36m19\u001b[0m\u001b[0;34m\u001b[0m\u001b[0m\n\u001b[1;32m      3\u001b[0m \u001b[0;34m\u001b[0m\u001b[0m\n\u001b[0;32m----> 4\u001b[0;31m \u001b[0mrho\u001b[0m \u001b[0;34m=\u001b[0m \u001b[0mrand_rho\u001b[0m\u001b[0;34m(\u001b[0m\u001b[0mn\u001b[0m\u001b[0;34m)\u001b[0m\u001b[0;34m\u001b[0m\u001b[0m\n\u001b[0m\u001b[1;32m      5\u001b[0m \u001b[0mNs\u001b[0m \u001b[0;34m=\u001b[0m \u001b[0;34m[\u001b[0m\u001b[0;36m2\u001b[0m\u001b[0;34m**\u001b[0m\u001b[0mi\u001b[0m \u001b[0;34m+\u001b[0m \u001b[0;36m10\u001b[0m \u001b[0;32mfor\u001b[0m \u001b[0mi\u001b[0m \u001b[0;32min\u001b[0m \u001b[0mrange\u001b[0m\u001b[0;34m(\u001b[0m\u001b[0;36m5\u001b[0m\u001b[0;34m,\u001b[0m \u001b[0mM\u001b[0m\u001b[0;34m)\u001b[0m\u001b[0;34m]\u001b[0m\u001b[0;34m\u001b[0m\u001b[0m\n\u001b[1;32m      6\u001b[0m \u001b[0mst\u001b[0m \u001b[0;34m=\u001b[0m \u001b[0mtime\u001b[0m\u001b[0;34m.\u001b[0m\u001b[0mtime\u001b[0m\u001b[0;34m(\u001b[0m\u001b[0;34m)\u001b[0m\u001b[0;34m\u001b[0m\u001b[0m\n",
      "\u001b[0;31mNameError\u001b[0m: name 'rand_rho' is not defined"
     ]
    }
   ],
   "source": [
    "t = 2\n",
    "M = 19\n",
    "\n",
    "rho = rand_rho(n)\n",
    "Ns = [2**i + 10 for i in range(5, M)]\n",
    "st = time.time()\n",
    "errors_costs1 = np.array([Error_cost(Hm, Hs, hs, t, rho, N, threads=12) for N in Ns])\n",
    "errors_costs = np.array([Error_cost(Hm, Hs_s, hs_s, t, rho, N, icosts, threads=12) for N in Ns])\n",
    "print(time.time()-st)\n",
    "errors, errors1 = errors_costs[:, 0], errors_costs1[:, 0]\n",
    "tcosts, rcosts = errors_costs[:, 1], errors_costs[:, 2]"
   ]
  },
  {
   "cell_type": "code",
   "execution_count": null,
   "metadata": {},
   "outputs": [],
   "source": [
    "plt.title('Iterations vs Error')\n",
    "plt.plot(errors, Ns, 'b-', label='Multiple terms', markersize=3)\n",
    "plt.plot(errors1, Ns, 'r-', label='Single term', markersize=3)\n",
    "plt.legend()\n",
    "plt.show()"
   ]
  },
  {
   "cell_type": "code",
   "execution_count": null,
   "metadata": {},
   "outputs": [],
   "source": [
    "plt.title('Total cost vs Error')\n",
    "plt.plot(errors, tcosts, 'b-', label='Multiple terms', markersize=3)\n",
    "plt.plot(errors1, Ns, 'r-', label='Single term', markersize=3)\n",
    "plt.legend()\n",
    "plt.show()"
   ]
  },
  {
   "cell_type": "code",
   "execution_count": null,
   "metadata": {},
   "outputs": [],
   "source": [
    "plt.title('Rotations vs Error')\n",
    "plt.plot(errors, rcosts, 'b-', label='Multiple terms', markersize=3)\n",
    "plt.plot(errors1, Ns, 'r-', label='Single term', markersize=3)\n",
    "plt.legend()\n",
    "plt.show()"
   ]
  },
  {
   "cell_type": "code",
   "execution_count": null,
   "metadata": {
    "scrolled": true
   },
   "outputs": [],
   "source": [
    "plt.title('log Iterations vs log Error')\n",
    "plt.plot(np.log10(errors), np.log10(Ns), 'b-', label='Multiple terms', markersize=3)\n",
    "plt.plot(np.log10(errors1), np.log10(Ns), 'r-', label='Single term', markersize=3)\n",
    "plt.legend()\n",
    "plt.show()"
   ]
  },
  {
   "cell_type": "code",
   "execution_count": null,
   "metadata": {},
   "outputs": [],
   "source": [
    "toffcost = tcosts - rcosts\n",
    "\n",
    "plt.title('log Toffoli cost vs log Error')\n",
    "plt.plot(np.log10(errors), np.log10(toffcost), 'b-', label='Multiple terms', markersize=3)\n",
    "plt.legend()\n",
    "plt.show()"
   ]
  },
  {
   "cell_type": "code",
   "execution_count": null,
   "metadata": {},
   "outputs": [],
   "source": [
    "plt.title('log Rotations vs log Error')\n",
    "plt.plot(np.log10(errors), np.log10(rcosts), 'b-', label='Multiple terms', markersize=3)\n",
    "plt.plot(np.log10(errors1), np.log10(Ns), 'r-', label='Single term', markersize=3)\n",
    "plt.legend()\n",
    "plt.show()"
   ]
  },
  {
   "cell_type": "code",
   "execution_count": null,
   "metadata": {},
   "outputs": [],
   "source": [
    "print(errors1[-1], errors[-1])"
   ]
  },
  {
   "cell_type": "code",
   "execution_count": null,
   "metadata": {},
   "outputs": [],
   "source": []
  },
  {
   "cell_type": "code",
   "execution_count": null,
   "metadata": {},
   "outputs": [],
   "source": []
  },
  {
   "cell_type": "code",
   "execution_count": null,
   "metadata": {},
   "outputs": [],
   "source": [
    "# np.savetxt('rcosts', rcosts)\n",
    "# np.savetxt('tcosts', tcosts)\n",
    "# np.savetxt('errors', errors)\n",
    "# np.savetxt('errors1', errors1)\n",
    "# np.savetxt('Ns', Ns)"
   ]
  },
  {
   "cell_type": "code",
   "execution_count": null,
   "metadata": {},
   "outputs": [],
   "source": [
    "def cost_for_error(H, Hs, hs, t, eps, icosts=None, step=100):\n",
    "    \"\"\" Binary search for first N where N segments has error <= eps\n",
    "    \"\"\"\n",
    "    error = 1e5\n",
    "    N = int(np.ceil(2*np.sum(np.abs(hs))**2*t**2/eps))\n",
    "    U = scipy.linalg.expm(1j*t*H)\n",
    "    while error > eps:\n",
    "        Vlist, lamb, _ = QDrift(hs, t, eps, N)\n",
    "        tau = t*lamb/N\n",
    "        Vs = [scipy.linalg.expm(1j*tau*Hs[i]) for i in Vlist]\n",
    "        V = reduce(np.matmul, Vs)\n",
    "        error = np.linalg.norm(V-U)\n",
    "        cost = (np.sum([icosts[Vlist[i]] for i in range(N)]) \n",
    "                if icosts is not None else N)\n",
    "        print('N={0}, error={1}'.format(N, error))\n",
    "        N *= 2\n",
    "    \n",
    "    low, high, mid, last = N//2, N, N//2, N\n",
    "    Vlist, lamb, _ = QDrift(hs, t, eps, high)\n",
    "    while low <= high:\n",
    "        mid =  (high + low)//2\n",
    "        tau = t*lamb/mid\n",
    "        Vs = [scipy.linalg.expm(1j*tau*Hs[i]) for i in Vlist][0:mid]\n",
    "        V = reduce(np.matmul, Vs)\n",
    "        error = np.linalg.norm(V-U)\n",
    "        cost = (np.sum([icosts[Vlist[i]] for i in range(mid)]) \n",
    "                if icosts is not None else mid)\n",
    "        print('last={0}, error={1}'.format(last, error))\n",
    "        if error > eps:\n",
    "            low = mid+1\n",
    "        elif error < eps:\n",
    "            high, last = mid-1, mid\n",
    "        else:\n",
    "            high, last = mid, mid\n",
    "    cost = (np.sum([icosts[Vlist[i]][0] + icosts[Vlist[i]][1] for i in range(last)]) \n",
    "                if icosts is not None else last)\n",
    "    return cost"
   ]
  }
 ],
 "metadata": {
  "kernelspec": {
   "display_name": "Python 3",
   "language": "python",
   "name": "python3"
  },
  "language_info": {
   "codemirror_mode": {
    "name": "ipython",
    "version": 3
   },
   "file_extension": ".py",
   "mimetype": "text/x-python",
   "name": "python",
   "nbconvert_exporter": "python",
   "pygments_lexer": "ipython3",
   "version": "3.7.0"
  }
 },
 "nbformat": 4,
 "nbformat_minor": 2
}
