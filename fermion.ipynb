{
 "cells": [
  {
   "cell_type": "code",
   "execution_count": 1,
   "metadata": {},
   "outputs": [],
   "source": [
    "try:\n",
    "    import openfermion as of\n",
    "    import openfermionpyscf as ofpyscf\n",
    "except ImportError:\n",
    "    print(\"Installing OpenFermion and OpenFermion-PySCF...\")\n",
    "    !pip install openfermion openfermionpyscf --quiet\n",
    "\n",
    "import numpy as np\n",
    "from scipy.sparse import linalg\n",
    "\n",
    "import cirq\n",
    "import openfermion as of\n",
    "import openfermionpyscf as ofpyscf\n"
   ]
  },
  {
   "cell_type": "code",
   "execution_count": 2,
   "metadata": {},
   "outputs": [],
   "source": [
    "# Set molecule parameters\n",
    "geometry = [(\"H\", (0.0, 0.0, 0.0)), (\"H\", (0.0, 0.0, 0.8))]\n",
    "basis = \"sto-3g\"\n",
    "multiplicity = 1\n",
    "charge = 0\n",
    "\n",
    "# Perform electronic structure calculations and\n",
    "# obtain Hamiltonian as an InteractionOperator\n",
    "hamiltonian = ofpyscf.generate_molecular_hamiltonian(\n",
    "    geometry, basis, multiplicity, charge\n",
    ")\n",
    "\n",
    "# Convert to a FermionOperator\n",
    "hamiltonian_ferm_op = of.get_fermion_operator(hamiltonian)"
   ]
  },
  {
   "cell_type": "code",
   "execution_count": 3,
   "metadata": {},
   "outputs": [
    {
     "name": "stdout",
     "output_type": "stream",
     "text": [
      "Ground_energy: -1.1341476666770984\n",
      "JWT transformed Hamiltonian:\n",
      "(-0.16733398905695257+0j) [] +\n",
      "(-0.04615669588901532+0j) [X0 X1 Y2 Y3] +\n",
      "(0.04615669588901532+0j) [X0 Y1 Y2 X3] +\n",
      "(0.04615669588901532+0j) [Y0 X1 X2 Y3] +\n",
      "(-0.04615669588901532+0j) [Y0 Y1 X2 X3] +\n",
      "(0.1625164874887165+0j) [Z0] +\n",
      "(0.1658325372159041+0j) [Z0 Z1] +\n",
      "(0.11720364720195851+0j) [Z0 Z2] +\n",
      "(0.1633603430909738+0j) [Z0 Z3] +\n",
      "(0.16251648748871647+0j) [Z1] +\n",
      "(0.1633603430909738+0j) [Z1 Z2] +\n",
      "(0.11720364720195851+0j) [Z1 Z3] +\n",
      "(-0.1974429369975581+0j) [Z2] +\n",
      "(0.1716978839228671+0j) [Z2 Z3] +\n",
      "(-0.1974429369975581+0j) [Z3]\n"
     ]
    }
   ],
   "source": [
    "# Map to QubitOperator using the JWT\n",
    "hamiltonian_jw = of.jordan_wigner(hamiltonian_ferm_op)\n",
    "\n",
    "# Convert to Scipy sparse matrix\n",
    "hamiltonian_jw_sparse = of.get_sparse_operator(hamiltonian_jw)\n",
    "\n",
    "# Compute ground energy\n",
    "eigs, _ = linalg.eigsh(hamiltonian_jw_sparse, k=1, which=\"SA\")\n",
    "ground_energy = eigs[0]\n",
    "\n",
    "print(\"Ground_energy: {}\".format(ground_energy))\n",
    "print(\"JWT transformed Hamiltonian:\")\n",
    "print(hamiltonian_jw)"
   ]
  },
  {
   "cell_type": "code",
   "execution_count": 6,
   "metadata": {},
   "outputs": [
    {
     "name": "stdout",
     "output_type": "stream",
     "text": [
      "[(), ((0, 'Z'),), ((1, 'Z'),), ((2, 'Z'),), ((3, 'Z'),), ((0, 'Z'), (1, 'Z')), ((0, 'Y'), (1, 'X'), (2, 'X'), (3, 'Y')), ((0, 'Y'), (1, 'Y'), (2, 'X'), (3, 'X')), ((0, 'X'), (1, 'X'), (2, 'Y'), (3, 'Y')), ((0, 'X'), (1, 'Y'), (2, 'Y'), (3, 'X')), ((0, 'Z'), (2, 'Z')), ((0, 'Z'), (3, 'Z')), ((1, 'Z'), (2, 'Z')), ((1, 'Z'), (3, 'Z')), ((2, 'Z'), (3, 'Z'))]\n",
      "Value:  (-0.16733398905695257+0j)\n",
      "0 Z\n",
      "Value:  (0.1625164874887165+0j)\n",
      "1 Z\n",
      "Value:  (0.16251648748871647+0j)\n",
      "2 Z\n",
      "Value:  (-0.1974429369975581+0j)\n",
      "3 Z\n",
      "Value:  (-0.1974429369975581+0j)\n",
      "0 Z\n",
      "1 Z\n",
      "Value:  (0.1658325372159041+0j)\n",
      "0 Y\n",
      "1 X\n",
      "2 X\n",
      "3 Y\n",
      "Value:  (0.04615669588901532+0j)\n",
      "0 Y\n",
      "1 Y\n",
      "2 X\n",
      "3 X\n",
      "Value:  (-0.04615669588901532+0j)\n",
      "0 X\n",
      "1 X\n",
      "2 Y\n",
      "3 Y\n",
      "Value:  (-0.04615669588901532+0j)\n",
      "0 X\n",
      "1 Y\n",
      "2 Y\n",
      "3 X\n",
      "Value:  (0.04615669588901532+0j)\n",
      "0 Z\n",
      "2 Z\n",
      "Value:  (0.11720364720195851+0j)\n",
      "0 Z\n",
      "3 Z\n",
      "Value:  (0.1633603430909738+0j)\n",
      "1 Z\n",
      "2 Z\n",
      "Value:  (0.1633603430909738+0j)\n",
      "1 Z\n",
      "3 Z\n",
      "Value:  (0.11720364720195851+0j)\n",
      "2 Z\n",
      "3 Z\n",
      "Value:  (0.1716978839228671+0j)\n"
     ]
    }
   ],
   "source": [
    "ops = hamiltonian_jw\n",
    "dic = ops.terms\n",
    "tuples = list(ops.terms.keys())\n",
    "print(tuples)\n",
    "for typle in tuples:\n",
    "    for pauli in typle:\n",
    "        print(pauli[0], pauli[1])\n",
    "    print('Value: ', dic[typle])"
   ]
  },
  {
   "cell_type": "code",
   "execution_count": 5,
   "metadata": {},
   "outputs": [],
   "source": [
    "I = np.array([[1,0],[0,1]])\n",
    "X = np.array([[0,1],[1,0]])\n",
    "Y = np.array([[0,-1j],[1j,0]])\n",
    "Z = np.array([[1,0],[0,-1]])\n",
    "Paulis = [I,X,Y,Z]\n",
    "\n",
    "\n",
    "    "
   ]
  }
 ],
 "metadata": {
  "kernelspec": {
   "display_name": "Python 3",
   "language": "python",
   "name": "python3"
  },
  "language_info": {
   "codemirror_mode": {
    "name": "ipython",
    "version": 3
   },
   "file_extension": ".py",
   "mimetype": "text/x-python",
   "name": "python",
   "nbconvert_exporter": "python",
   "pygments_lexer": "ipython3",
   "version": "3.7.0"
  }
 },
 "nbformat": 4,
 "nbformat_minor": 2
}
