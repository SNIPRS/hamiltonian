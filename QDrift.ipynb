{
 "cells": [
  {
   "cell_type": "code",
   "execution_count": 1,
   "metadata": {},
   "outputs": [],
   "source": [
    "import numpy as np\n",
    "import scipy.linalg\n",
    "import scipy.stats\n",
    "from functools import reduce\n",
    "import matplotlib.pyplot as plt\n",
    "from multiprocessing import Pool\n",
    "import time\n",
    "from tqdm import trange, tqdm\n",
    "\n",
    "%matplotlib inline\n",
    "\n",
    "def QDrift(hs, t, eps, N=None):\n",
    "    \"\"\"\n",
    "    Input: A list of Hamiltonian terms Hs, time t, precision eps\n",
    "    Output: Ordered list of indicies j, j corresponding to exp(i*lamb*t*Hj/N), lamb, N\n",
    "    \"\"\"\n",
    "    lamb = np.sum(np.abs(hs))\n",
    "    prob = np.abs(hs)/lamb\n",
    "    if N is None:\n",
    "        N = int(np.ceil(2*lamb**2*t**2/eps))\n",
    "    Vlist = np.random.choice(hs.size, N, p=prob)\n",
    "    return Vlist, lamb, N"
   ]
  },
  {
   "cell_type": "code",
   "execution_count": 2,
   "metadata": {},
   "outputs": [],
   "source": [
    "I = np.array([[1,0],[0,1]])\n",
    "X = np.array([[0,1],[1,0]])\n",
    "Y = np.array([[0,-1j],[1j,0]])\n",
    "Z = np.array([[1,0],[0,-1]])\n",
    "Paulis = [I,X,Y,Z]\n",
    "Signs = [1,-1,1,-1]\n",
    "\n",
    "def random_H(n, L=6):\n",
    "    Hjs = []\n",
    "    hjs = []\n",
    "    for i in range(L):\n",
    "        pind = np.random.randint(0,4,size=n)\n",
    "        sind = np.random.randint(0,4,size=n)\n",
    "        Hj = Paulis[pind[0]]*Signs[sind[0]]\n",
    "        for j in range(1,n):\n",
    "            Hj = np.kron(Hj, Paulis[pind[j]]*Signs[sind[j]])\n",
    "        hj = np.random.uniform(0,1)\n",
    "        Hjs.append(Hj)\n",
    "        hjs.append(hj)\n",
    "    Hjs, hjs = np.array(Hjs), np.array(hjs)\n",
    "    # hjs = hjs/np.sum(hjs)\n",
    "    H = np.sum(Hjs*hjs.reshape(-1,1,1),axis=0)\n",
    "    return H, Hjs, hjs\n",
    "\n",
    "def rand_rho(n):\n",
    "    n = 2**n\n",
    "    U = scipy.stats.unitary_group.rvs(n)\n",
    "    rho = np.zeros((n,n))\n",
    "    rho[0,0] = 1\n",
    "    rho = np.matmul(np.matmul(U,rho), U.conj().T)\n",
    "    return rho\n",
    "\n",
    "\n",
    "def Error_cost(H, Hs, hs, t, rho, N, icosts=None, M=100, threads=1):\n",
    "    st = time.time()\n",
    "    n = H.shape[0] # actually 2^n\n",
    "    L = len(Hs)\n",
    "    VC = np.zeros((n,n))*1j\n",
    "    norm = 0\n",
    "    lamb = np.sum(np.abs(hs))\n",
    "    prob = np.abs(hs)/lamb\n",
    "    tau = t*lamb/N\n",
    "    rcost, tcost = 0, 0\n",
    "    if icosts is None:\n",
    "        icosts = np.array(L*[[1,0]])\n",
    "    \n",
    "    for i in tqdm(range(M), desc='Running N={0}'.format(N)):\n",
    "        idx = np.random.choice(hs.size, N, p=prob)\n",
    "        His, pis = Hs[idx], prob[idx]\n",
    "        sgns = np.sign(hs[idx])\n",
    "        Vis = np.array([scipy.linalg.expm(1j*tau*His[j]*sgns[j]) for j in range(N)] +\n",
    "                       (threads-N%threads)*[np.identity(n)])\n",
    "        Visp = np.split(Vis, threads)\n",
    "        with Pool(threads) as p:\n",
    "            Vi_pooled = np.array(p.map(np.linalg.multi_dot, Visp))\n",
    "        Vi = np.linalg.multi_dot(Vi_pooled)\n",
    "        Vi = np.array(Vi).reshape((n,n))\n",
    "        pi = np.prod(pis)\n",
    "        tcost += np.sum([icosts[j][0] + icosts[j][1] for j in idx])\n",
    "        rcost += np.sum([icosts[j][0] for j in idx])\n",
    "        VC += np.linalg.inv(Vi) @ rho @ Vi\n",
    "        norm += 1\n",
    "    \n",
    "    VC = VC/norm\n",
    "    U = scipy.linalg.expm(1j*t*H)\n",
    "    UC = np.linalg.inv(U) @ rho @ U\n",
    "    Eps = np.linalg.norm(UC - VC)\n",
    "    tcost, rcost = tcost/M, rcost/M\n",
    "    return np.array([Eps, tcost, rcost])\n"
   ]
  },
  {
   "cell_type": "code",
   "execution_count": 3,
   "metadata": {},
   "outputs": [],
   "source": [
    "# t = 6\n",
    "# n = 2\n",
    "# L = 4\n",
    "# eps = 0.01\n",
    "# N = None\n",
    "\n",
    "# H, Hs, hs = random_H(n,L)\n",
    "# rho = rand_rho(n)"
   ]
  },
  {
   "cell_type": "code",
   "execution_count": 4,
   "metadata": {},
   "outputs": [],
   "source": [
    "# Ns = [2**i + 10 for i in range(10)]\n",
    "\n",
    "# Errors = [Error(H, Hs, hs, t, rho, N) for N in Ns]\n",
    "# plt.plot(Ns, Errors)"
   ]
  },
  {
   "cell_type": "code",
   "execution_count": 5,
   "metadata": {
    "scrolled": false
   },
   "outputs": [],
   "source": [
    "# t = 6\n",
    "# n = 2\n",
    "# L = 6\n",
    "# eps = 0.01\n",
    "# N = None\n",
    "\n",
    "# H, Hs, hs = random_H(n,L)\n",
    "# rho = rand_rho(n)\n",
    "\n",
    "# ts = np.arange(0.2, 10, 0.2)\n",
    "# es = Error_line(H, Hs, hs, ts, eps, R=100, N=100)\n",
    "\n",
    "# plt.plot(np.log(ts), np.log(es))\n",
    "# plt.title(\"log errors vs log dts\")\n",
    "# print(\"Average slope = {0}\".format( np.polyfit(np.log(ts), np.log(es), 1)[0]))"
   ]
  },
  {
   "cell_type": "code",
   "execution_count": null,
   "metadata": {},
   "outputs": [],
   "source": []
  },
  {
   "cell_type": "code",
   "execution_count": 6,
   "metadata": {},
   "outputs": [],
   "source": [
    "# t = 2\n",
    "# n = 2\n",
    "# L = 6\n",
    "# eps = 0.01\n",
    "# N = None\n",
    "\n",
    "# H, Hs, hs = random_H(n,L)\n",
    "# # A, _, _ = random_H(n)\n",
    "\n",
    "# # psi = rand_rho(n)[0].reshape((-1,1))\n",
    "# # psi = psi/np.linalg.norm(psi)\n",
    "\n",
    "\n",
    "# Vlist, lamb, N = QDrift(hs, t, eps)\n",
    "# print(N)\n",
    "# tau = t*lamb/N\n",
    "# Vs, nVs = [scipy.linalg.expm(1j*tau*Hs[i]) for i in Vlist], [scipy.linalg.expm(-1j*tau*Hs[i]) for i in Vlist[::-1]]\n",
    "# # Vavg = np.sum(np.array([V @ A @ nV for V, nV in zip(Vs, nVs)]), axis=0)/len(Vs)\n",
    "# # Vavg = np.linalg.matrix_power(Vavg, N)\n",
    "# V = reduce(np.matmul, Vs)\n",
    "# U, nU = scipy.linalg.expm(1j*t*H), scipy.linalg.expm(-1j*t*H)\n",
    "# # NU = np.linalg.matrix_power(U, N)\n",
    "# # Uavg = U @ A @ nU\n",
    "\n",
    "# error = np.linalg.norm(V - U, np.inf)/2**n\n",
    "# print('error = {}'.format(error))"
   ]
  },
  {
   "cell_type": "code",
   "execution_count": null,
   "metadata": {},
   "outputs": [],
   "source": []
  },
  {
   "cell_type": "code",
   "execution_count": null,
   "metadata": {},
   "outputs": [],
   "source": []
  },
  {
   "cell_type": "code",
   "execution_count": null,
   "metadata": {
    "scrolled": false
   },
   "outputs": [],
   "source": []
  },
  {
   "cell_type": "code",
   "execution_count": null,
   "metadata": {},
   "outputs": [],
   "source": []
  },
  {
   "cell_type": "code",
   "execution_count": null,
   "metadata": {
    "scrolled": false
   },
   "outputs": [],
   "source": []
  },
  {
   "cell_type": "code",
   "execution_count": 7,
   "metadata": {},
   "outputs": [],
   "source": [
    "def Error_line(H, Hs, hs, ts, eps, R=10, N=None):\n",
    "    A, _, _ = random_H(n)\n",
    "    psi = rand_rho(n)[0].reshape((-1,1))\n",
    "    psi = psi/np.linalg.norm(psi)\n",
    "    res = []\n",
    "    \n",
    "    for t in ts:\n",
    "        errors = []\n",
    "        for i in range(R):\n",
    "            Vlist, lamb, N = QDrift(hs, t, eps, N)\n",
    "            tau = t*lamb/N\n",
    "            U, nU = scipy.linalg.expm(1j*t/N*H), scipy.linalg.expm(-1j*t/N*H)\n",
    "            Vs, nVs = [scipy.linalg.expm(1j*tau*Hs[i]) for i in Vlist], [scipy.linalg.expm(-1j*tau*Hs[i]) for i in Vlist[::-1]]\n",
    "            V, nV = reduce(np.matmul, Vs), reduce(np.matmul, nVs)\n",
    "            pred = np.sum(np.array([psi.T.conj() @ v @ A @ nv @ psi for v, nv in zip(Vs, nVs)]), axis=0)/N\n",
    "            actual = psi.T.conj() @ U @ A @ nU @ psi \n",
    "            errors.append(pred-actual)\n",
    "        res.append(np.abs(np.mean(errors).flatten()[0]))\n",
    "    return res"
   ]
  },
  {
   "cell_type": "code",
   "execution_count": null,
   "metadata": {},
   "outputs": [],
   "source": []
  },
  {
   "cell_type": "code",
   "execution_count": null,
   "metadata": {},
   "outputs": [],
   "source": []
  },
  {
   "cell_type": "code",
   "execution_count": null,
   "metadata": {},
   "outputs": [],
   "source": []
  },
  {
   "cell_type": "code",
   "execution_count": null,
   "metadata": {},
   "outputs": [],
   "source": []
  }
 ],
 "metadata": {
  "kernelspec": {
   "display_name": "Python 3",
   "language": "python",
   "name": "python3"
  },
  "language_info": {
   "codemirror_mode": {
    "name": "ipython",
    "version": 3
   },
   "file_extension": ".py",
   "mimetype": "text/x-python",
   "name": "python",
   "nbconvert_exporter": "python",
   "pygments_lexer": "ipython3",
   "version": "3.7.0"
  }
 },
 "nbformat": 4,
 "nbformat_minor": 2
}
